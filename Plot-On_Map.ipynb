{
 "cells": [
  {
   "cell_type": "code",
   "execution_count": 1,
   "metadata": {
    "collapsed": true
   },
   "outputs": [],
   "source": [
    "import gmplot\n",
    "import pandas as pd\n",
    "%matplotlib inline"
   ]
  },
  {
   "cell_type": "code",
   "execution_count": 2,
   "metadata": {
    "collapsed": true
   },
   "outputs": [],
   "source": [
    "gmap = gmplot.GoogleMapPlotter.from_geocode(\"Chicago\")"
   ]
  },
  {
   "cell_type": "code",
   "execution_count": 3,
   "metadata": {},
   "outputs": [
    {
     "data": {
      "text/plain": [
       "(1954240, 26)"
      ]
     },
     "execution_count": 3,
     "metadata": {},
     "output_type": "execute_result"
    }
   ],
   "source": [
    "Crime_data_Final = pd.read_csv(\"/Users/chandanramanna/Downloads/CrimeData_Final.csv\")\n",
    "Crime_data_Final.shape"
   ]
  },
  {
   "cell_type": "code",
   "execution_count": 5,
   "metadata": {},
   "outputs": [
    {
     "data": {
      "text/html": [
       "<div>\n",
       "<style>\n",
       "    .dataframe thead tr:only-child th {\n",
       "        text-align: right;\n",
       "    }\n",
       "\n",
       "    .dataframe thead th {\n",
       "        text-align: left;\n",
       "    }\n",
       "\n",
       "    .dataframe tbody tr th {\n",
       "        vertical-align: top;\n",
       "    }\n",
       "</style>\n",
       "<table border=\"1\" class=\"dataframe\">\n",
       "  <thead>\n",
       "    <tr style=\"text-align: right;\">\n",
       "      <th></th>\n",
       "      <th>Unnamed: 0</th>\n",
       "      <th>Unnamed: 0.1</th>\n",
       "      <th>ID</th>\n",
       "      <th>Case Number</th>\n",
       "      <th>Date</th>\n",
       "      <th>Block</th>\n",
       "      <th>IUCR</th>\n",
       "      <th>Primary Type</th>\n",
       "      <th>Description</th>\n",
       "      <th>Location Description</th>\n",
       "      <th>...</th>\n",
       "      <th>FBI Code</th>\n",
       "      <th>X Coordinate</th>\n",
       "      <th>Y Coordinate</th>\n",
       "      <th>Year</th>\n",
       "      <th>Updated On</th>\n",
       "      <th>Latitude</th>\n",
       "      <th>Longitude</th>\n",
       "      <th>Location</th>\n",
       "      <th>Time</th>\n",
       "      <th>Month</th>\n",
       "    </tr>\n",
       "  </thead>\n",
       "  <tbody>\n",
       "    <tr>\n",
       "      <th>0</th>\n",
       "      <td>0</td>\n",
       "      <td>18</td>\n",
       "      <td>10500187</td>\n",
       "      <td>HZ241477</td>\n",
       "      <td>2016-04-26</td>\n",
       "      <td>028XX E 95TH ST</td>\n",
       "      <td>1121</td>\n",
       "      <td>DECEPTIVE PRACTICE</td>\n",
       "      <td>COUNTERFEITING DOCUMENT</td>\n",
       "      <td>GAS STATION</td>\n",
       "      <td>...</td>\n",
       "      <td>10</td>\n",
       "      <td>1196846.0</td>\n",
       "      <td>1842514.0</td>\n",
       "      <td>2016</td>\n",
       "      <td>05/03/2016 03:51:27 PM</td>\n",
       "      <td>41.722725</td>\n",
       "      <td>-87.554566</td>\n",
       "      <td>(41.722725152, -87.554566354)</td>\n",
       "      <td>20:12:00</td>\n",
       "      <td>4</td>\n",
       "    </tr>\n",
       "    <tr>\n",
       "      <th>1</th>\n",
       "      <td>1</td>\n",
       "      <td>82</td>\n",
       "      <td>10500188</td>\n",
       "      <td>HZ241310</td>\n",
       "      <td>2016-04-26</td>\n",
       "      <td>0000X W JACKSON BLVD</td>\n",
       "      <td>0810</td>\n",
       "      <td>THEFT</td>\n",
       "      <td>OVER $500</td>\n",
       "      <td>SIDEWALK</td>\n",
       "      <td>...</td>\n",
       "      <td>06</td>\n",
       "      <td>1175785.0</td>\n",
       "      <td>1898975.0</td>\n",
       "      <td>2016</td>\n",
       "      <td>05/03/2016 03:51:27 PM</td>\n",
       "      <td>41.878157</td>\n",
       "      <td>-87.630017</td>\n",
       "      <td>(41.878156557, -87.630017482)</td>\n",
       "      <td>09:00:00</td>\n",
       "      <td>4</td>\n",
       "    </tr>\n",
       "    <tr>\n",
       "      <th>2</th>\n",
       "      <td>2</td>\n",
       "      <td>104</td>\n",
       "      <td>10500189</td>\n",
       "      <td>HZ241506</td>\n",
       "      <td>2016-04-26</td>\n",
       "      <td>054XX W MADISON ST</td>\n",
       "      <td>0820</td>\n",
       "      <td>THEFT</td>\n",
       "      <td>$500 AND UNDER</td>\n",
       "      <td>PARKING LOT/GARAGE(NON.RESID.)</td>\n",
       "      <td>...</td>\n",
       "      <td>06</td>\n",
       "      <td>1139904.0</td>\n",
       "      <td>1899485.0</td>\n",
       "      <td>2016</td>\n",
       "      <td>05/03/2016 03:51:27 PM</td>\n",
       "      <td>41.880287</td>\n",
       "      <td>-87.761753</td>\n",
       "      <td>(41.880287347, -87.761752861)</td>\n",
       "      <td>17:35:00</td>\n",
       "      <td>4</td>\n",
       "    </tr>\n",
       "  </tbody>\n",
       "</table>\n",
       "<p>3 rows × 26 columns</p>\n",
       "</div>"
      ],
      "text/plain": [
       "   Unnamed: 0  Unnamed: 0.1        ID Case Number        Date  \\\n",
       "0           0            18  10500187    HZ241477  2016-04-26   \n",
       "1           1            82  10500188    HZ241310  2016-04-26   \n",
       "2           2           104  10500189    HZ241506  2016-04-26   \n",
       "\n",
       "                  Block  IUCR        Primary Type              Description  \\\n",
       "0       028XX E 95TH ST  1121  DECEPTIVE PRACTICE  COUNTERFEITING DOCUMENT   \n",
       "1  0000X W JACKSON BLVD  0810               THEFT                OVER $500   \n",
       "2    054XX W MADISON ST  0820               THEFT           $500 AND UNDER   \n",
       "\n",
       "             Location Description  ...    FBI Code  X Coordinate  \\\n",
       "0                     GAS STATION  ...          10     1196846.0   \n",
       "1                        SIDEWALK  ...          06     1175785.0   \n",
       "2  PARKING LOT/GARAGE(NON.RESID.)  ...          06     1139904.0   \n",
       "\n",
       "   Y Coordinate  Year              Updated On   Latitude  Longitude  \\\n",
       "0     1842514.0  2016  05/03/2016 03:51:27 PM  41.722725 -87.554566   \n",
       "1     1898975.0  2016  05/03/2016 03:51:27 PM  41.878157 -87.630017   \n",
       "2     1899485.0  2016  05/03/2016 03:51:27 PM  41.880287 -87.761753   \n",
       "\n",
       "                        Location      Time  Month  \n",
       "0  (41.722725152, -87.554566354)  20:12:00      4  \n",
       "1  (41.878156557, -87.630017482)  09:00:00      4  \n",
       "2  (41.880287347, -87.761752861)  17:35:00      4  \n",
       "\n",
       "[3 rows x 26 columns]"
      ]
     },
     "execution_count": 5,
     "metadata": {},
     "output_type": "execute_result"
    }
   ],
   "source": [
    "Crime_data_Final[:3]"
   ]
  },
  {
   "cell_type": "code",
   "execution_count": 8,
   "metadata": {},
   "outputs": [
    {
     "data": {
      "text/plain": [
       "['Unnamed: 0',\n",
       " 'Unnamed: 0.1',\n",
       " 'ID',\n",
       " 'Case Number',\n",
       " 'Date',\n",
       " 'Block',\n",
       " 'IUCR',\n",
       " 'Primary Type',\n",
       " 'Description',\n",
       " 'Location Description',\n",
       " 'Arrest',\n",
       " 'Domestic',\n",
       " 'Beat',\n",
       " 'District',\n",
       " 'Ward',\n",
       " 'Community Area',\n",
       " 'FBI Code',\n",
       " 'X Coordinate',\n",
       " 'Y Coordinate',\n",
       " 'Year',\n",
       " 'Updated On',\n",
       " 'Latitude',\n",
       " 'Longitude',\n",
       " 'Location',\n",
       " 'Time',\n",
       " 'Month']"
      ]
     },
     "execution_count": 8,
     "metadata": {},
     "output_type": "execute_result"
    }
   ],
   "source": [
    "list(Crime_data_Final)"
   ]
  },
  {
   "cell_type": "code",
   "execution_count": 6,
   "metadata": {},
   "outputs": [
    {
     "data": {
      "text/plain": [
       "(2000, 26)"
      ]
     },
     "execution_count": 6,
     "metadata": {},
     "output_type": "execute_result"
    }
   ],
   "source": [
    "df = Crime_data_Final[:2000]\n",
    "df.shape"
   ]
  },
  {
   "cell_type": "code",
   "execution_count": 21,
   "metadata": {
    "collapsed": true
   },
   "outputs": [],
   "source": [
    "latitudes = df[\"Latitude\"]\n",
    "longitudes = df[\"Longitude\"]"
   ]
  },
  {
   "cell_type": "code",
   "execution_count": 9,
   "metadata": {
    "collapsed": true
   },
   "outputs": [],
   "source": [
    "gmap.plot(latitudes, longitudes, 'cornflowerblue', edge_width=10)"
   ]
  },
  {
   "cell_type": "code",
   "execution_count": 11,
   "metadata": {
    "collapsed": true
   },
   "outputs": [],
   "source": [
    "gmap.scatter(latitudes, longitudes, '#3B0B39', size=40, marker=False)"
   ]
  },
  {
   "cell_type": "code",
   "execution_count": 22,
   "metadata": {
    "collapsed": true
   },
   "outputs": [],
   "source": [
    "#gmap.scatter(marker_lats, marker_lngs, 'k', marker=True)\n",
    "m = gmap.heatmap(latitudes, longitudes)"
   ]
  },
  {
   "cell_type": "code",
   "execution_count": 20,
   "metadata": {
    "collapsed": true
   },
   "outputs": [],
   "source": [
    "gmap.draw(\"mymap2.html\")"
   ]
  },
  {
   "cell_type": "code",
   "execution_count": 25,
   "metadata": {
    "collapsed": true
   },
   "outputs": [],
   "source": [
    "m"
   ]
  },
  {
   "cell_type": "code",
   "execution_count": 27,
   "metadata": {
    "collapsed": true
   },
   "outputs": [],
   "source": [
    "import gmaps\n",
    "import gmaps.datasets\n",
    "gmaps.configure(api_key=\"....\")"
   ]
  },
  {
   "cell_type": "code",
   "execution_count": 28,
   "metadata": {},
   "outputs": [
    {
     "data": {
      "text/html": [
       "<div>\n",
       "<style>\n",
       "    .dataframe thead tr:only-child th {\n",
       "        text-align: right;\n",
       "    }\n",
       "\n",
       "    .dataframe thead th {\n",
       "        text-align: left;\n",
       "    }\n",
       "\n",
       "    .dataframe tbody tr th {\n",
       "        vertical-align: top;\n",
       "    }\n",
       "</style>\n",
       "<table border=\"1\" class=\"dataframe\">\n",
       "  <thead>\n",
       "    <tr style=\"text-align: right;\">\n",
       "      <th></th>\n",
       "      <th>Unnamed: 0</th>\n",
       "      <th>Unnamed: 0.1</th>\n",
       "      <th>ID</th>\n",
       "      <th>Case Number</th>\n",
       "      <th>Date</th>\n",
       "      <th>Block</th>\n",
       "      <th>IUCR</th>\n",
       "      <th>Primary Type</th>\n",
       "      <th>Description</th>\n",
       "      <th>Location Description</th>\n",
       "      <th>...</th>\n",
       "      <th>FBI Code</th>\n",
       "      <th>X Coordinate</th>\n",
       "      <th>Y Coordinate</th>\n",
       "      <th>Year</th>\n",
       "      <th>Updated On</th>\n",
       "      <th>Latitude</th>\n",
       "      <th>Longitude</th>\n",
       "      <th>Location</th>\n",
       "      <th>Time</th>\n",
       "      <th>Month</th>\n",
       "    </tr>\n",
       "  </thead>\n",
       "  <tbody>\n",
       "    <tr>\n",
       "      <th>0</th>\n",
       "      <td>0</td>\n",
       "      <td>18</td>\n",
       "      <td>10500187</td>\n",
       "      <td>HZ241477</td>\n",
       "      <td>2016-04-26</td>\n",
       "      <td>028XX E 95TH ST</td>\n",
       "      <td>1121</td>\n",
       "      <td>DECEPTIVE PRACTICE</td>\n",
       "      <td>COUNTERFEITING DOCUMENT</td>\n",
       "      <td>GAS STATION</td>\n",
       "      <td>...</td>\n",
       "      <td>10</td>\n",
       "      <td>1196846.0</td>\n",
       "      <td>1842514.0</td>\n",
       "      <td>2016</td>\n",
       "      <td>05/03/2016 03:51:27 PM</td>\n",
       "      <td>41.722725</td>\n",
       "      <td>-87.554566</td>\n",
       "      <td>(41.722725152, -87.554566354)</td>\n",
       "      <td>20:12:00</td>\n",
       "      <td>4</td>\n",
       "    </tr>\n",
       "    <tr>\n",
       "      <th>1</th>\n",
       "      <td>1</td>\n",
       "      <td>82</td>\n",
       "      <td>10500188</td>\n",
       "      <td>HZ241310</td>\n",
       "      <td>2016-04-26</td>\n",
       "      <td>0000X W JACKSON BLVD</td>\n",
       "      <td>0810</td>\n",
       "      <td>THEFT</td>\n",
       "      <td>OVER $500</td>\n",
       "      <td>SIDEWALK</td>\n",
       "      <td>...</td>\n",
       "      <td>06</td>\n",
       "      <td>1175785.0</td>\n",
       "      <td>1898975.0</td>\n",
       "      <td>2016</td>\n",
       "      <td>05/03/2016 03:51:27 PM</td>\n",
       "      <td>41.878157</td>\n",
       "      <td>-87.630017</td>\n",
       "      <td>(41.878156557, -87.630017482)</td>\n",
       "      <td>09:00:00</td>\n",
       "      <td>4</td>\n",
       "    </tr>\n",
       "    <tr>\n",
       "      <th>2</th>\n",
       "      <td>2</td>\n",
       "      <td>104</td>\n",
       "      <td>10500189</td>\n",
       "      <td>HZ241506</td>\n",
       "      <td>2016-04-26</td>\n",
       "      <td>054XX W MADISON ST</td>\n",
       "      <td>0820</td>\n",
       "      <td>THEFT</td>\n",
       "      <td>$500 AND UNDER</td>\n",
       "      <td>PARKING LOT/GARAGE(NON.RESID.)</td>\n",
       "      <td>...</td>\n",
       "      <td>06</td>\n",
       "      <td>1139904.0</td>\n",
       "      <td>1899485.0</td>\n",
       "      <td>2016</td>\n",
       "      <td>05/03/2016 03:51:27 PM</td>\n",
       "      <td>41.880287</td>\n",
       "      <td>-87.761753</td>\n",
       "      <td>(41.880287347, -87.761752861)</td>\n",
       "      <td>17:35:00</td>\n",
       "      <td>4</td>\n",
       "    </tr>\n",
       "  </tbody>\n",
       "</table>\n",
       "<p>3 rows × 26 columns</p>\n",
       "</div>"
      ],
      "text/plain": [
       "   Unnamed: 0  Unnamed: 0.1        ID Case Number        Date  \\\n",
       "0           0            18  10500187    HZ241477  2016-04-26   \n",
       "1           1            82  10500188    HZ241310  2016-04-26   \n",
       "2           2           104  10500189    HZ241506  2016-04-26   \n",
       "\n",
       "                  Block  IUCR        Primary Type              Description  \\\n",
       "0       028XX E 95TH ST  1121  DECEPTIVE PRACTICE  COUNTERFEITING DOCUMENT   \n",
       "1  0000X W JACKSON BLVD  0810               THEFT                OVER $500   \n",
       "2    054XX W MADISON ST  0820               THEFT           $500 AND UNDER   \n",
       "\n",
       "             Location Description  ...    FBI Code  X Coordinate  \\\n",
       "0                     GAS STATION  ...          10     1196846.0   \n",
       "1                        SIDEWALK  ...          06     1175785.0   \n",
       "2  PARKING LOT/GARAGE(NON.RESID.)  ...          06     1139904.0   \n",
       "\n",
       "   Y Coordinate  Year              Updated On   Latitude  Longitude  \\\n",
       "0     1842514.0  2016  05/03/2016 03:51:27 PM  41.722725 -87.554566   \n",
       "1     1898975.0  2016  05/03/2016 03:51:27 PM  41.878157 -87.630017   \n",
       "2     1899485.0  2016  05/03/2016 03:51:27 PM  41.880287 -87.761753   \n",
       "\n",
       "                        Location      Time  Month  \n",
       "0  (41.722725152, -87.554566354)  20:12:00      4  \n",
       "1  (41.878156557, -87.630017482)  09:00:00      4  \n",
       "2  (41.880287347, -87.761752861)  17:35:00      4  \n",
       "\n",
       "[3 rows x 26 columns]"
      ]
     },
     "execution_count": 28,
     "metadata": {},
     "output_type": "execute_result"
    }
   ],
   "source": [
    "df[:3]"
   ]
  },
  {
   "cell_type": "code",
   "execution_count": 33,
   "metadata": {
    "collapsed": true
   },
   "outputs": [],
   "source": [
    "locations = {key: value for key, value in zip(latitudes, longitudes)}"
   ]
  },
  {
   "cell_type": "code",
   "execution_count": 34,
   "metadata": {},
   "outputs": [
    {
     "ename": "TypeError",
     "evalue": "unhashable type: 'dict'",
     "output_type": "error",
     "traceback": [
      "\u001b[0;31m---------------------------------------------------------------------------\u001b[0m",
      "\u001b[0;31mTypeError\u001b[0m                                 Traceback (most recent call last)",
      "\u001b[0;32m<ipython-input-34-076221f13a98>\u001b[0m in \u001b[0;36m<module>\u001b[0;34m()\u001b[0m\n\u001b[0;32m----> 1\u001b[0;31m \u001b[0mlocations\u001b[0m \u001b[0;34m=\u001b[0m \u001b[0mgmaps\u001b[0m\u001b[0;34m.\u001b[0m\u001b[0mdatasets\u001b[0m\u001b[0;34m.\u001b[0m\u001b[0mload_dataset\u001b[0m\u001b[0;34m(\u001b[0m\u001b[0mlocations\u001b[0m\u001b[0;34m)\u001b[0m\u001b[0;34m\u001b[0m\u001b[0m\n\u001b[0m",
      "\u001b[0;32m/Users/chandanramanna/anaconda/lib/python3.6/site-packages/gmaps/datasets/datasets.py\u001b[0m in \u001b[0;36mload_dataset\u001b[0;34m(dataset_name)\u001b[0m\n\u001b[1;32m    106\u001b[0m     \u001b[0mFetch\u001b[0m \u001b[0ma\u001b[0m \u001b[0mdataset\u001b[0m\u001b[0;34m,\u001b[0m \u001b[0mreturning\u001b[0m \u001b[0man\u001b[0m \u001b[0marray\u001b[0m \u001b[0mof\u001b[0m \u001b[0mtuples\u001b[0m\u001b[0;34m.\u001b[0m\u001b[0;34m\u001b[0m\u001b[0m\n\u001b[1;32m    107\u001b[0m     \"\"\"\n\u001b[0;32m--> 108\u001b[0;31m     \u001b[0murl\u001b[0m \u001b[0;34m=\u001b[0m \u001b[0mMETADATA\u001b[0m\u001b[0;34m[\u001b[0m\u001b[0mdataset_name\u001b[0m\u001b[0;34m]\u001b[0m\u001b[0;34m[\u001b[0m\u001b[0;34m\"url\"\u001b[0m\u001b[0;34m]\u001b[0m\u001b[0;34m\u001b[0m\u001b[0m\n\u001b[0m\u001b[1;32m    109\u001b[0m     \u001b[0mcolumn_types\u001b[0m \u001b[0;34m=\u001b[0m \u001b[0mMETADATA\u001b[0m\u001b[0;34m[\u001b[0m\u001b[0mdataset_name\u001b[0m\u001b[0;34m]\u001b[0m\u001b[0;34m[\u001b[0m\u001b[0;34m\"types\"\u001b[0m\u001b[0;34m]\u001b[0m\u001b[0;34m\u001b[0m\u001b[0m\n\u001b[1;32m    110\u001b[0m     \u001b[0mf\u001b[0m \u001b[0;34m=\u001b[0m \u001b[0murlopen\u001b[0m\u001b[0;34m(\u001b[0m\u001b[0murl\u001b[0m\u001b[0;34m)\u001b[0m\u001b[0;34m\u001b[0m\u001b[0m\n",
      "\u001b[0;31mTypeError\u001b[0m: unhashable type: 'dict'"
     ]
    }
   ],
   "source": [
    "locations = gmaps.datasets.load_dataset(locations)"
   ]
  },
  {
   "cell_type": "code",
   "execution_count": null,
   "metadata": {
    "collapsed": true
   },
   "outputs": [],
   "source": []
  }
 ],
 "metadata": {
  "kernelspec": {
   "display_name": "Python 3",
   "language": "python",
   "name": "python3"
  },
  "language_info": {
   "codemirror_mode": {
    "name": "ipython",
    "version": 3
   },
   "file_extension": ".py",
   "mimetype": "text/x-python",
   "name": "python",
   "nbconvert_exporter": "python",
   "pygments_lexer": "ipython3",
   "version": "3.6.1"
  }
 },
 "nbformat": 4,
 "nbformat_minor": 2
}
